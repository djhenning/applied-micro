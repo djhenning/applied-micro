{
 "cells": [
  {
   "cell_type": "markdown",
   "metadata": {},
   "source": [
    "# Problem set 2 -  Hoarding and Structural Breaks"
   ]
  },
  {
   "cell_type": "markdown",
   "metadata": {},
   "source": [
    "### Author: David Henning"
   ]
  },
  {
   "cell_type": "markdown",
   "metadata": {},
   "source": [
    "### Part I: Hoarding"
   ]
  },
  {
   "cell_type": "markdown",
   "metadata": {},
   "source": [
    "##### 1) Compute: if the desired number of children is 5, what is the number of births when Infant Mortality Rate (IMR) is 0.5? 0.3? 0.1? 0.05? 0.01? "
   ]
  },
  {
   "cell_type": "code",
   "execution_count": null,
   "metadata": {},
   "outputs": [],
   "source": [
    "import numpy as np\n",
    "import pandas as pd\n",
    "import matplotlib.pyplot as plt\n",
    "from statsmodels.api import OLS, tsa"
   ]
  },
  {
   "cell_type": "code",
   "execution_count": null,
   "metadata": {},
   "outputs": [],
   "source": [
    "#Define the parameters\n",
    "N = 5\n",
    "l = np.array([0.5, 0.3, 0.1, 0.05, 0.01])\n",
    "Birth = np.empty_like(l)\n",
    "\n",
    "#Loop to calculate the number of births given target number of kids and mortality rate\n",
    "for i in range(len(l)):\n",
    "    Birth[i] = N / (1-l[i])\n",
    "    \n",
    "Birth"
   ]
  },
  {
   "cell_type": "markdown",
   "metadata": {},
   "source": [
    "##### 2) The total fertility rate of the world went from around 6-7 to around 2. Given your computations what can we say about hoarding as a theory to explain the fertility transition? "
   ]
  },
  {
   "cell_type": "markdown",
   "metadata": {},
   "source": [
    "I don't really understand this question..."
   ]
  },
  {
   "cell_type": "markdown",
   "metadata": {},
   "source": [
    "### Part II: Structural Breaks"
   ]
  },
  {
   "cell_type": "code",
   "execution_count": null,
   "metadata": {},
   "outputs": [],
   "source": [
    "np.random.seed(1)\n",
    "T = 100\n",
    "y = np.zeros(T)                        # To store values\n",
    "\n",
    "for t in range(0, T):\n",
    "    y[t] = np.random.uniform(1, 10)"
   ]
  },
  {
   "cell_type": "code",
   "execution_count": null,
   "metadata": {},
   "outputs": [],
   "source": [
    "plt.plot(y)\n",
    "plt.title('Random data points $y$')\n",
    "plt.xlabel('t')\n",
    "plt.show()"
   ]
  },
  {
   "cell_type": "code",
   "execution_count": null,
   "metadata": {},
   "outputs": [],
   "source": [
    "#Generate a dataframe to work with from now on\n",
    "x = list(range(100))\n",
    "df = pd.DataFrame(x,columns=['x'])\n",
    "df['y'] = pd.DataFrame(y, columns=['y'])\n",
    "df['constant'] = 1"
   ]
  },
  {
   "cell_type": "markdown",
   "metadata": {},
   "source": [
    "##### 3) Suppose $y$ increases linearly with time $t$ , with some error, and has no break in trend. What is the estimated break? "
   ]
  },
  {
   "cell_type": "code",
   "execution_count": null,
   "metadata": {},
   "outputs": [],
   "source": [
    "# Set parameters\n",
    "J = df.shape[1] - 1\n",
    "k = df.shape[1] - 1\n",
    "chow = np.zeros(90)\n",
    "\n",
    "# Run pooled OLS model\n",
    "model = OLS(df.y, df[['x', 'constant']]).fit()\n",
    "RSS = model.ssr"
   ]
  },
  {
   "cell_type": "code",
   "execution_count": null,
   "metadata": {},
   "outputs": [],
   "source": [
    "plt.plot(model.fittedvalues)\n",
    "plt.plot(df.y)\n",
    "plt.show()"
   ]
  },
  {
   "cell_type": "code",
   "execution_count": null,
   "metadata": {},
   "outputs": [],
   "source": [
    "for i in range(0,90):\n",
    "    t = i + 5\n",
    "    \n",
    "    df1 = df[:t]\n",
    "    df2 = df[t:]\n",
    "    \n",
    "    N1 = df1.shape[0]\n",
    "    N2 = df2.shape[0]\n",
    "\n",
    "    model1 = OLS(df1.y, df1[['x', 'constant']]).fit()\n",
    "    RSS1 = model1.ssr\n",
    "\n",
    "    model2 = OLS(df2.y, df2[['x', 'constant']]).fit()\n",
    "    RSS2 = model2.ssr\n",
    "\n",
    "    chow[i] = ((RSS-(RSS1+RSS2))/J)/((RSS1+RSS2)/(N1+N2-2*k))\n"
   ]
  },
  {
   "cell_type": "code",
   "execution_count": null,
   "metadata": {},
   "outputs": [],
   "source": [
    "df3 = df\n",
    "df3['chow'] = pd.DataFrame(chow, columns=['chow'])\n",
    "df3['chow'] = df.chow.shift(5)"
   ]
  },
  {
   "cell_type": "code",
   "execution_count": null,
   "metadata": {},
   "outputs": [],
   "source": [
    "df3.plot(x='x', y='chow')"
   ]
  },
  {
   "cell_type": "code",
   "execution_count": null,
   "metadata": {},
   "outputs": [],
   "source": [
    "df3.idxmax(axis=0)['chow'] #display the time at which chow is maximized"
   ]
  },
  {
   "cell_type": "markdown",
   "metadata": {},
   "source": [
    "##### 4) Supppose  $y$ is stationary and has a break at $t=30$ . What is the estimated break? What happens if the variance increases over time? "
   ]
  },
  {
   "cell_type": "code",
   "execution_count": null,
   "metadata": {},
   "outputs": [],
   "source": [
    "#Define dataframe for AR(1) process\n",
    "df4 = df[['y', 'x', 'constant']]\n",
    "ε = np.random.normal(scale=1, size=T)  # Draw random error terms\n",
    "\n",
    "df4['y_lag'] = df4.y.shift(1)          # Create lagged version of dependent variable\n",
    "df4['break'] = (df.x >= 30).astype(int)   # Create dummy for break\n",
    "df4['y_lag_break'] = df4['y_lag'] * df4['break']  #multiply dummy with lagged to allow for differential slopes\n",
    "df4['error'] = ε                       # Add error term\n",
    "df5 = df4[['x','y', 'break', 'constant']]\n",
    "df4 = df4[1:]                          # Drop first observation"
   ]
  },
  {
   "cell_type": "code",
   "execution_count": null,
   "metadata": {},
   "outputs": [],
   "source": [
    "# Set parameters\n",
    "J = df4.shape[1] - 1\n",
    "k = df4.shape[1] - 1\n",
    "chow = np.zeros(90)\n",
    "\n",
    "# Run pooled OLS model\n",
    "model = OLS(df4.y, df4[['constant', 'y_lag', 'break', 'y_lag_break', 'error']]).fit()\n",
    "RSS = model.ssr"
   ]
  },
  {
   "cell_type": "code",
   "execution_count": null,
   "metadata": {
    "scrolled": true
   },
   "outputs": [],
   "source": [
    "plt.plot(model.fittedvalues)\n",
    "plt.plot(df4.y)\n",
    "plt.show()"
   ]
  },
  {
   "cell_type": "code",
   "execution_count": null,
   "metadata": {},
   "outputs": [],
   "source": [
    "for i in range(0,90):\n",
    "    t = i + 5\n",
    "    \n",
    "    df1 = df4[:t]\n",
    "    df2 = df4[t:]\n",
    "    \n",
    "    N1 = df1.shape[0]\n",
    "    N2 = df2.shape[0]\n",
    "\n",
    "    model1 = OLS(df1.y, df1[['constant', 'y_lag', 'break', 'y_lag_break', 'error']]).fit()\n",
    "    RSS1 = model1.ssr\n",
    "\n",
    "    model2 = OLS(df2.y, df2[['constant', 'y_lag', 'break', 'y_lag_break', 'error']]).fit()\n",
    "    RSS2 = model2.ssr\n",
    "\n",
    "    chow[i] = ((RSS-(RSS1+RSS2))/J)/((RSS1+RSS2)/(N1+N2-2*k))"
   ]
  },
  {
   "cell_type": "code",
   "execution_count": null,
   "metadata": {
    "scrolled": true
   },
   "outputs": [],
   "source": [
    "df4 = df\n",
    "df4['chow'] = pd.DataFrame(chow, columns=['chow'])\n",
    "df4['chow'] = df4.chow.shift(5)\n",
    "df4.plot(x='x', y='chow')"
   ]
  },
  {
   "cell_type": "code",
   "execution_count": null,
   "metadata": {},
   "outputs": [],
   "source": [
    "df4.idxmax(axis=0)['chow'] #display the time at which chow is maximized"
   ]
  },
  {
   "cell_type": "markdown",
   "metadata": {},
   "source": [
    "##### 5) Supppose  $y$ increases exponentially with time $t$, and has a break at $t=30$ . What is the estimated break? "
   ]
  },
  {
   "cell_type": "code",
   "execution_count": null,
   "metadata": {},
   "outputs": [],
   "source": [
    "#Define dataframe for AR(1) process\n",
    "df5['y'] = np.log(df5['y'])\n",
    "df5['x_break'] = df5['x'] * df5['break']  #multiply dummy with lagged to allow for differential slopes\n",
    "df5 = df5[['y', 'x', 'break', 'x_break', 'constant']]"
   ]
  },
  {
   "cell_type": "code",
   "execution_count": null,
   "metadata": {},
   "outputs": [],
   "source": [
    "# Set parameters\n",
    "J = df5.shape[1] - 1\n",
    "k = df5.shape[1] - 1\n",
    "chow = np.zeros(90)\n",
    "\n",
    "# Run pooled OLS model\n",
    "model = OLS(df5.y, df5[['break', 'x', 'x_break', 'constant']]).fit()\n",
    "RSS = model.ssr"
   ]
  },
  {
   "cell_type": "code",
   "execution_count": null,
   "metadata": {
    "scrolled": true
   },
   "outputs": [],
   "source": [
    "plt.plot(model.fittedvalues)\n",
    "plt.plot(df5.y)\n",
    "plt.show()"
   ]
  },
  {
   "cell_type": "code",
   "execution_count": null,
   "metadata": {},
   "outputs": [],
   "source": [
    "for i in range(0,90):\n",
    "    t = i + 5\n",
    "    \n",
    "    df1 = df5[:t]\n",
    "    df2 = df5[t:]\n",
    "    \n",
    "    N1 = df1.shape[0]\n",
    "    N2 = df2.shape[0]\n",
    "\n",
    "    model1 = OLS(df1.y, df1[['break', 'x', 'x_break', 'constant']]).fit()\n",
    "    RSS1 = model1.ssr\n",
    "\n",
    "    model2 = OLS(df2.y, df2[['break', 'x', 'x_break', 'constant']]).fit()\n",
    "    RSS2 = model2.ssr\n",
    "\n",
    "    chow[i] = ((RSS-(RSS1+RSS2))/J)/((RSS1+RSS2)/(N1+N2-2*k))"
   ]
  },
  {
   "cell_type": "code",
   "execution_count": null,
   "metadata": {
    "scrolled": true
   },
   "outputs": [],
   "source": [
    "df5['chow'] = pd.DataFrame(chow, columns=['chow'])\n",
    "df5['chow'] = df5.chow.shift(4)\n",
    "df5.plot(x='x', y='chow')"
   ]
  },
  {
   "cell_type": "code",
   "execution_count": null,
   "metadata": {},
   "outputs": [],
   "source": [
    "df5.idxmax(axis=0)['chow'] #display the time at which chow is maximized"
   ]
  },
  {
   "cell_type": "markdown",
   "metadata": {},
   "source": [
    "##### 6) Supppose  $y$ stationary and has breaks at $t=30$ and $t=60$ . What is the estimated break? "
   ]
  },
  {
   "cell_type": "code",
   "execution_count": null,
   "metadata": {},
   "outputs": [],
   "source": [
    "#Define dataframe for AR(1) process\n",
    "df6 = df[['y', 'x', 'constant']]\n",
    "ε = np.random.normal(scale=1, size=T)  # Draw random error terms\n",
    "\n",
    "df6['y_lag'] = df6.y.shift(1)          # Create lagged version of dependent variable\n",
    "df6['break1'] = (df6.x >= 30).astype(int)   # Create dummy for break\n",
    "df6['break2'] = (df6.x >= 60).astype(int)   # Create dummy for break 2\n",
    "df6['y_lag_break1'] = df6['y_lag'] * df6['break1']  #multiply dummy with lagged to allow for differential slopes\n",
    "df6['y_lag_break2'] = df6['y_lag'] * df6['break2']  #multiply dummy with lagged to allow for differential slopes\n",
    "df6['error'] = ε                       # Add error term\n",
    "df6 = df6[1:]                          # Drop first observation"
   ]
  },
  {
   "cell_type": "code",
   "execution_count": null,
   "metadata": {},
   "outputs": [],
   "source": [
    "# Set parameters\n",
    "J = df6.shape[1] - 1\n",
    "k = df6.shape[1] - 1\n",
    "chow = np.zeros(90)\n",
    "\n",
    "# Run pooled OLS model\n",
    "model = OLS(df6.y, df6[['constant', 'y_lag', 'break1', 'break2', 'y_lag_break1', 'y_lag_break2', 'error']]).fit()\n",
    "RSS = model.ssr"
   ]
  },
  {
   "cell_type": "code",
   "execution_count": null,
   "metadata": {
    "scrolled": true
   },
   "outputs": [],
   "source": [
    "plt.plot(model.fittedvalues)\n",
    "plt.plot(df6.y)\n",
    "plt.show()"
   ]
  },
  {
   "cell_type": "code",
   "execution_count": null,
   "metadata": {},
   "outputs": [],
   "source": [
    "for i in range(0,90):\n",
    "    t = i + 5\n",
    "    \n",
    "    df1 = df6[:t]\n",
    "    df2 = df6[t:]\n",
    "    \n",
    "    N1 = df1.shape[0]\n",
    "    N2 = df2.shape[0]\n",
    "\n",
    "    model1 = OLS(df1.y, df1[['constant', 'y_lag', 'break1', 'break2', 'y_lag_break1', 'y_lag_break2', 'error']]).fit()\n",
    "    RSS1 = model1.ssr\n",
    "\n",
    "    model2 = OLS(df2.y, df2[['constant', 'y_lag', 'break1', 'break2', 'y_lag_break1', 'y_lag_break2', 'error']]).fit()\n",
    "    RSS2 = model2.ssr\n",
    "\n",
    "    chow[i] = ((RSS-(RSS1+RSS2))/J)/((RSS1+RSS2)/(N1+N2-2*k))"
   ]
  },
  {
   "cell_type": "code",
   "execution_count": null,
   "metadata": {
    "scrolled": true
   },
   "outputs": [],
   "source": [
    "df6['chow'] = pd.DataFrame(chow, columns=['chow'])\n",
    "df6['chow'] = df6.chow.shift(5)\n",
    "df6.plot(x='x', y='chow')"
   ]
  },
  {
   "cell_type": "code",
   "execution_count": null,
   "metadata": {},
   "outputs": [],
   "source": [
    "df6.idxmax(axis=0)['chow'] #display the time at which chow is maximized"
   ]
  },
  {
   "cell_type": "code",
   "execution_count": null,
   "metadata": {},
   "outputs": [],
   "source": []
  }
 ],
 "metadata": {
  "kernelspec": {
   "display_name": "Python 3",
   "language": "python",
   "name": "python3"
  },
  "language_info": {
   "codemirror_mode": {
    "name": "ipython",
    "version": 3
   },
   "file_extension": ".py",
   "mimetype": "text/x-python",
   "name": "python",
   "nbconvert_exporter": "python",
   "pygments_lexer": "ipython3",
   "version": "3.8.3"
  }
 },
 "nbformat": 4,
 "nbformat_minor": 4
}
